{
 "cells": [
  {
   "cell_type": "markdown",
   "metadata": {},
   "source": [
    "# DSC 550 Project Milestone #1"
   ]
  },
  {
   "cell_type": "markdown",
   "metadata": {},
   "source": [
    "The problem being addressed in this project is if we can accurately predict who will buy travel insurance or not. If it is possible to predict what group of people are more inclined to buy travel insurance we can use customer specific advertising. This specific data set contains 10 columns ranging from education level to chronic diseases. The inspiration behind this project is that I work for the Charlotte Airport and every day I see thousands of potential customers for travel insurance. One thing that this data set is missing is the average payout/profit of travel insurance. It would be very interesting to see if a particular group of people are continually benefiting from travel insurance which could hurt profits. "
   ]
  },
  {
   "cell_type": "code",
   "execution_count": 2,
   "metadata": {},
   "outputs": [],
   "source": [
    "import pandas as pd\n",
    "import numpy as np\n",
    "import seaborn"
   ]
  },
  {
   "cell_type": "code",
   "execution_count": 3,
   "metadata": {},
   "outputs": [],
   "source": [
    "#load netflix data\n",
    "df = pd.read_csv('TravelInsurancePrediction.csv')"
   ]
  },
  {
   "cell_type": "code",
   "execution_count": 4,
   "metadata": {},
   "outputs": [
    {
     "data": {
      "text/html": [
       "<div>\n",
       "<style scoped>\n",
       "    .dataframe tbody tr th:only-of-type {\n",
       "        vertical-align: middle;\n",
       "    }\n",
       "\n",
       "    .dataframe tbody tr th {\n",
       "        vertical-align: top;\n",
       "    }\n",
       "\n",
       "    .dataframe thead th {\n",
       "        text-align: right;\n",
       "    }\n",
       "</style>\n",
       "<table border=\"1\" class=\"dataframe\">\n",
       "  <thead>\n",
       "    <tr style=\"text-align: right;\">\n",
       "      <th></th>\n",
       "      <th>Unnamed: 0</th>\n",
       "      <th>Age</th>\n",
       "      <th>Employment Type</th>\n",
       "      <th>GraduateOrNot</th>\n",
       "      <th>AnnualIncome</th>\n",
       "      <th>FamilyMembers</th>\n",
       "      <th>ChronicDiseases</th>\n",
       "      <th>FrequentFlyer</th>\n",
       "      <th>EverTravelledAbroad</th>\n",
       "      <th>TravelInsurance</th>\n",
       "    </tr>\n",
       "  </thead>\n",
       "  <tbody>\n",
       "    <tr>\n",
       "      <th>0</th>\n",
       "      <td>0</td>\n",
       "      <td>31</td>\n",
       "      <td>Government Sector</td>\n",
       "      <td>Yes</td>\n",
       "      <td>400000</td>\n",
       "      <td>6</td>\n",
       "      <td>1</td>\n",
       "      <td>No</td>\n",
       "      <td>No</td>\n",
       "      <td>0</td>\n",
       "    </tr>\n",
       "    <tr>\n",
       "      <th>1</th>\n",
       "      <td>1</td>\n",
       "      <td>31</td>\n",
       "      <td>Private Sector/Self Employed</td>\n",
       "      <td>Yes</td>\n",
       "      <td>1250000</td>\n",
       "      <td>7</td>\n",
       "      <td>0</td>\n",
       "      <td>No</td>\n",
       "      <td>No</td>\n",
       "      <td>0</td>\n",
       "    </tr>\n",
       "    <tr>\n",
       "      <th>2</th>\n",
       "      <td>2</td>\n",
       "      <td>34</td>\n",
       "      <td>Private Sector/Self Employed</td>\n",
       "      <td>Yes</td>\n",
       "      <td>500000</td>\n",
       "      <td>4</td>\n",
       "      <td>1</td>\n",
       "      <td>No</td>\n",
       "      <td>No</td>\n",
       "      <td>1</td>\n",
       "    </tr>\n",
       "    <tr>\n",
       "      <th>3</th>\n",
       "      <td>3</td>\n",
       "      <td>28</td>\n",
       "      <td>Private Sector/Self Employed</td>\n",
       "      <td>Yes</td>\n",
       "      <td>700000</td>\n",
       "      <td>3</td>\n",
       "      <td>1</td>\n",
       "      <td>No</td>\n",
       "      <td>No</td>\n",
       "      <td>0</td>\n",
       "    </tr>\n",
       "    <tr>\n",
       "      <th>4</th>\n",
       "      <td>4</td>\n",
       "      <td>28</td>\n",
       "      <td>Private Sector/Self Employed</td>\n",
       "      <td>Yes</td>\n",
       "      <td>700000</td>\n",
       "      <td>8</td>\n",
       "      <td>1</td>\n",
       "      <td>Yes</td>\n",
       "      <td>No</td>\n",
       "      <td>0</td>\n",
       "    </tr>\n",
       "  </tbody>\n",
       "</table>\n",
       "</div>"
      ],
      "text/plain": [
       "   Unnamed: 0  Age               Employment Type GraduateOrNot  AnnualIncome  \\\n",
       "0           0   31             Government Sector           Yes        400000   \n",
       "1           1   31  Private Sector/Self Employed           Yes       1250000   \n",
       "2           2   34  Private Sector/Self Employed           Yes        500000   \n",
       "3           3   28  Private Sector/Self Employed           Yes        700000   \n",
       "4           4   28  Private Sector/Self Employed           Yes        700000   \n",
       "\n",
       "   FamilyMembers  ChronicDiseases FrequentFlyer EverTravelledAbroad  \\\n",
       "0              6                1            No                  No   \n",
       "1              7                0            No                  No   \n",
       "2              4                1            No                  No   \n",
       "3              3                1            No                  No   \n",
       "4              8                1           Yes                  No   \n",
       "\n",
       "   TravelInsurance  \n",
       "0                0  \n",
       "1                0  \n",
       "2                1  \n",
       "3                0  \n",
       "4                0  "
      ]
     },
     "execution_count": 4,
     "metadata": {},
     "output_type": "execute_result"
    }
   ],
   "source": [
    "#Examine the Data\n",
    "df.head()"
   ]
  },
  {
   "cell_type": "code",
   "execution_count": 5,
   "metadata": {},
   "outputs": [
    {
     "data": {
      "text/plain": [
       "(1987, 10)"
      ]
     },
     "execution_count": 5,
     "metadata": {},
     "output_type": "execute_result"
    }
   ],
   "source": [
    "# Look at the shape of the data\n",
    "df.shape"
   ]
  },
  {
   "cell_type": "code",
   "execution_count": 6,
   "metadata": {},
   "outputs": [],
   "source": [
    "# import matplotlib for visulization\n",
    "import matplotlib.pyplot as plt"
   ]
  },
  {
   "cell_type": "code",
   "execution_count": 7,
   "metadata": {},
   "outputs": [],
   "source": [
    "# set the figure size\n",
    "plt.rcParams['figure.figsize'] = (20, 10)"
   ]
  },
  {
   "cell_type": "code",
   "execution_count": 8,
   "metadata": {},
   "outputs": [
    {
     "data": {
      "image/png": "[encoded data removed]",
      "text/plain": [
       "<Figure size 1440x720 with 4 Axes>"
      ]
     },
     "metadata": {
      "needs_background": "light"
     },
     "output_type": "display_data"
    }
   ],
   "source": [
    "# make subplots\n",
    "fig, axes = plt.subplots(nrows = 2, ncols = 2)\n",
    "\n",
    "# set the features\n",
    "num_features = ['FamilyMembers', 'AnnualIncome', 'Employment Type', 'Age']\n",
    "xaxes = num_features\n",
    "yaxes = ['Counts', 'Counts','Counts','Counts']\n",
    "\n",
    "# Make histograms\n",
    "axes = axes.ravel()\n",
    "for idx, ax in enumerate(axes):\n",
    "    ax.hist(df[num_features[idx]].dropna(), bins=40)\n",
    "    ax.set_xlabel(xaxes[idx], fontsize=20)\n",
    "    ax.set_ylabel(yaxes[idx], fontsize=20)\n",
    "    ax.tick_params(axis='both', labelsize=15)\n",
    "    \n",
    "plt.show()\n"
   ]
  },
  {
   "cell_type": "code",
   "execution_count": 9,
   "metadata": {},
   "outputs": [
    {
     "data": {
      "image/png": "[encoded data removed]",
      "text/plain": [
       "<Figure size 1440x720 with 4 Axes>"
      ]
     },
     "metadata": {
      "needs_background": "light"
     },
     "output_type": "display_data"
    }
   ],
   "source": [
    "# Data to plot\n",
    "\n",
    "# make subplots\n",
    "fig, axes = plt.subplots(nrows = 2, ncols = 2)\n",
    "\n",
    "# make the data read to feed into the visulizer\n",
    "X_Survived = df.replace({'EverTravelledAbroad': {1: 'yes', 0: 'no'}}).groupby('EverTravelledAbroad').size().reset_index(name='Counts')['EverTravelledAbroad']\n",
    "Y_Survived = df.replace({'EverTravelledAbroad': {1: 'yes', 0: 'no'}}).groupby('EverTravelledAbroad').size().reset_index(name='Counts')['Counts']\n",
    "# make the bar plot\n",
    "axes[0, 0].bar(X_Survived, Y_Survived)\n",
    "axes[0, 0].set_title('EverTravelledAbroad', fontsize=25)\n",
    "axes[0, 0].set_ylabel('Counts', fontsize=20)\n",
    "axes[0, 0].tick_params(axis='both', labelsize=15)\n",
    "\n",
    "# make the data read to feed into the visulizer\n",
    "X_Survived = df.replace({'GraduateOrNot': {1: 'yes', 0: 'no'}}).groupby('GraduateOrNot').size().reset_index(name='Counts')['GraduateOrNot']\n",
    "Y_Survived = df.replace({'GraduateOrNot': {1: 'yes', 0: 'no'}}).groupby('GraduateOrNot').size().reset_index(name='Counts')['Counts']\n",
    "# make the bar plot\n",
    "axes[0, 1].bar(X_Survived, Y_Survived)\n",
    "axes[0, 1].set_title('GraduateOrNot', fontsize=25)\n",
    "axes[0, 1].set_ylabel('Counts', fontsize=20)\n",
    "axes[0, 1].tick_params(axis='both', labelsize=15)\n",
    "\n",
    "# make the data read to feed into the visulizer\n",
    "X_Survived = df.replace({'FrequentFlyer': {1: 'yes', 0: 'no'}}).groupby('FrequentFlyer').size().reset_index(name='Counts')['FrequentFlyer']\n",
    "Y_Survived = df.replace({'FrequentFlyer': {1: 'yes', 0: 'no'}}).groupby('FrequentFlyer').size().reset_index(name='Counts')['Counts']\n",
    "# make the bar plot\n",
    "axes[1, 1].bar(X_Survived, Y_Survived)\n",
    "axes[1, 1].set_title('FrequentFlyer', fontsize=25)\n",
    "axes[1, 1].set_ylabel('Counts', fontsize=20)\n",
    "axes[1, 1].tick_params(axis='both', labelsize=15)\n",
    "\n",
    "# make the data read to feed into the visulizer\n",
    "X_Survived = df.replace({'TravelInsurance': {1: 'yes', 0: 'no'}}).groupby('TravelInsurance').size().reset_index(name='Counts')['TravelInsurance']\n",
    "Y_Survived = df.replace({'TravelInsurance': {1: 'yes', 0: 'no'}}).groupby('TravelInsurance').size().reset_index(name='Counts')['Counts']\n",
    "# make the bar plot\n",
    "axes[1, 0].bar(X_Survived, Y_Survived)\n",
    "axes[1, 0].set_title('TravelInsurance', fontsize=25)\n",
    "axes[1, 0].set_ylabel('Counts', fontsize=20)\n",
    "axes[1, 0].tick_params(axis='both', labelsize=15)\n",
    "\n",
    "\n",
    "plt.show()\n"
   ]
  },
  {
   "cell_type": "code",
   "execution_count": 10,
   "metadata": {},
   "outputs": [],
   "source": [
    "# I want to see just how many variables make Age and annual income\n",
    "variables = ['Age','AnnualIncome']"
   ]
  },
  {
   "cell_type": "code",
   "execution_count": 11,
   "metadata": {},
   "outputs": [
    {
     "name": "stdout",
     "output_type": "stream",
     "text": [
      "There are 11 classes in the \"Age\" column. They are: [31 34 28 25 33 26 32 29 35 30 27]\n",
      "There are 30 classes in the \"AnnualIncome\" column. They are: [ 400000 1250000  500000  700000 1150000 1300000 1350000 1450000  800000\n",
      " 1400000  850000 1500000 1050000  350000 1100000  600000  900000  550000\n",
      "  300000  750000 1200000 1000000  950000 1700000 1750000  650000  450000\n",
      " 1650000 1800000 1550000]\n"
     ]
    }
   ],
   "source": [
    "for v in variables:\n",
    "    classes=df[v].unique()\n",
    "    num_classes = df[v].nunique()\n",
    "    print(\"There are {} classes in the \\\"{}\\\" column. They are: {}\".\n",
    "format(num_classes,v,classes))\n",
    "  "
   ]
  },
  {
   "cell_type": "code",
   "execution_count": 12,
   "metadata": {},
   "outputs": [
    {
     "data": {
      "text/html": [
       "<div>\n",
       "<style scoped>\n",
       "    .dataframe tbody tr th:only-of-type {\n",
       "        vertical-align: middle;\n",
       "    }\n",
       "\n",
       "    .dataframe tbody tr th {\n",
       "        vertical-align: top;\n",
       "    }\n",
       "\n",
       "    .dataframe thead th {\n",
       "        text-align: right;\n",
       "    }\n",
       "</style>\n",
       "<table border=\"1\" class=\"dataframe\">\n",
       "  <thead>\n",
       "    <tr style=\"text-align: right;\">\n",
       "      <th></th>\n",
       "      <th>Unnamed: 0</th>\n",
       "      <th>Age</th>\n",
       "      <th>AnnualIncome</th>\n",
       "      <th>FamilyMembers</th>\n",
       "      <th>ChronicDiseases</th>\n",
       "      <th>TravelInsurance</th>\n",
       "    </tr>\n",
       "  </thead>\n",
       "  <tbody>\n",
       "    <tr>\n",
       "      <th>Unnamed: 0</th>\n",
       "      <td>1.000000</td>\n",
       "      <td>-0.004917</td>\n",
       "      <td>-0.025031</td>\n",
       "      <td>-0.041506</td>\n",
       "      <td>-0.006858</td>\n",
       "      <td>0.006196</td>\n",
       "    </tr>\n",
       "    <tr>\n",
       "      <th>Age</th>\n",
       "      <td>-0.004917</td>\n",
       "      <td>1.000000</td>\n",
       "      <td>-0.020101</td>\n",
       "      <td>0.027409</td>\n",
       "      <td>0.007359</td>\n",
       "      <td>0.061060</td>\n",
       "    </tr>\n",
       "    <tr>\n",
       "      <th>AnnualIncome</th>\n",
       "      <td>-0.025031</td>\n",
       "      <td>-0.020101</td>\n",
       "      <td>1.000000</td>\n",
       "      <td>-0.015367</td>\n",
       "      <td>-0.001149</td>\n",
       "      <td>0.396763</td>\n",
       "    </tr>\n",
       "    <tr>\n",
       "      <th>FamilyMembers</th>\n",
       "      <td>-0.041506</td>\n",
       "      <td>0.027409</td>\n",
       "      <td>-0.015367</td>\n",
       "      <td>1.000000</td>\n",
       "      <td>0.028209</td>\n",
       "      <td>0.079909</td>\n",
       "    </tr>\n",
       "    <tr>\n",
       "      <th>ChronicDiseases</th>\n",
       "      <td>-0.006858</td>\n",
       "      <td>0.007359</td>\n",
       "      <td>-0.001149</td>\n",
       "      <td>0.028209</td>\n",
       "      <td>1.000000</td>\n",
       "      <td>0.018190</td>\n",
       "    </tr>\n",
       "    <tr>\n",
       "      <th>TravelInsurance</th>\n",
       "      <td>0.006196</td>\n",
       "      <td>0.061060</td>\n",
       "      <td>0.396763</td>\n",
       "      <td>0.079909</td>\n",
       "      <td>0.018190</td>\n",
       "      <td>1.000000</td>\n",
       "    </tr>\n",
       "  </tbody>\n",
       "</table>\n",
       "</div>"
      ],
      "text/plain": [
       "                 Unnamed: 0       Age  AnnualIncome  FamilyMembers  \\\n",
       "Unnamed: 0         1.000000 -0.004917     -0.025031      -0.041506   \n",
       "Age               -0.004917  1.000000     -0.020101       0.027409   \n",
       "AnnualIncome      -0.025031 -0.020101      1.000000      -0.015367   \n",
       "FamilyMembers     -0.041506  0.027409     -0.015367       1.000000   \n",
       "ChronicDiseases   -0.006858  0.007359     -0.001149       0.028209   \n",
       "TravelInsurance    0.006196  0.061060      0.396763       0.079909   \n",
       "\n",
       "                 ChronicDiseases  TravelInsurance  \n",
       "Unnamed: 0             -0.006858         0.006196  \n",
       "Age                     0.007359         0.061060  \n",
       "AnnualIncome           -0.001149         0.396763  \n",
       "FamilyMembers           0.028209         0.079909  \n",
       "ChronicDiseases         1.000000         0.018190  \n",
       "TravelInsurance         0.018190         1.000000  "
      ]
     },
     "execution_count": 12,
     "metadata": {},
     "output_type": "execute_result"
    }
   ],
   "source": [
    "#finding correlation \n",
    "corr = df.corr()\n",
    "corr"
   ]
  },
  {
   "cell_type": "code",
   "execution_count": 13,
   "metadata": {},
   "outputs": [
    {
     "data": {
      "text/plain": [
       "<AxesSubplot:>"
      ]
     },
     "execution_count": 13,
     "metadata": {},
     "output_type": "execute_result"
    },
    {
     "data": {
      "image/png": "[encoded data removed]",
      "text/plain": [
       "<Figure size 1440x720 with 2 Axes>"
      ]
     },
     "metadata": {
      "needs_background": "light"
     },
     "output_type": "display_data"
    }
   ],
   "source": [
    "#Making a corelation chart\n",
    "corr = df.corr()\n",
    "seaborn.heatmap(corr, \n",
    "            xticklabels = corr.columns.values,\n",
    "            yticklabels = corr.columns.values)"
   ]
  },
  {
   "cell_type": "code",
   "execution_count": 14,
   "metadata": {},
   "outputs": [
    {
     "data": {
      "text/plain": [
       "<matplotlib.legend.Legend at 0xa3e9be0>"
      ]
     },
     "execution_count": 14,
     "metadata": {},
     "output_type": "execute_result"
    },
    {
     "data": {
      "image/png": "[encoded data removed]",
      "text/plain": [
       "<Figure size 1440x720 with 4 Axes>"
      ]
     },
     "metadata": {
      "needs_background": "light"
     },
     "output_type": "display_data"
    }
   ],
   "source": [
    "plt.rcParams['figure.figsize'] = (20, 10)\n",
    "\n",
    "# make subplots\n",
    "fig, axes = plt.subplots(nrows = 2, ncols=2)\n",
    "\n",
    "# make the data read to feed into the visulizer\n",
    "frequentflyeryes = df.replace({'TravelInsurance': {1: 'Yes', 0: 'No'}})[df['TravelInsurance']==1]['FrequentFlyer'].value_counts()\n",
    "frequentflyerno = df.replace({'TravelInsurance': {1: 'Yes', 0: 'No'}})[df['TravelInsurance']==0]['FrequentFlyer'].value_counts()\n",
    "frequentflyerno = frequentflyerno.reindex(index = frequentflyeryes.index)\n",
    "# make the bar plot\n",
    "p1 = axes[0, 0].bar(frequentflyeryes.index, frequentflyeryes.values)\n",
    "p2 = axes[0, 0].bar(frequentflyerno.index, frequentflyerno.values, bottom=frequentflyeryes.values)\n",
    "axes[0, 0].set_title('Frequent Flyer Status', fontsize=25)\n",
    "axes[0, 0].set_ylabel('Counts', fontsize=20)\n",
    "axes[0, 0].set_xlabel('Is not a Frequent Flyer   Is a Frequent Flyer', fontsize=20)\n",
    "axes[0, 0].tick_params(axis='both', labelsize=15)\n",
    "axes[0, 0].legend((p1[0], p2[0]), ('Has Trip Insurance', 'Does not have Trip Insurance'), fontsize = 15)\n",
    "\n",
    "# make the data read to feed into the visulizer\n",
    "HasChronicDiseases = df.replace({'TravelInsurance': {1: 'Yes', 0: 'No'}})[df['TravelInsurance']==1]['ChronicDiseases'].value_counts()\n",
    "DoesntChronicDiseases = df.replace({'TravelInsurance': {1: 'Yes', 0: 'No'}})[df['TravelInsurance']==0]['ChronicDiseases'].value_counts()\n",
    "DoesntChronicDiseases = DoesntChronicDiseases.reindex(index = HasChronicDiseases.index)\n",
    "# make the bar plot\n",
    "p1 = axes[0, 1].bar(HasChronicDiseases.index, HasChronicDiseases.values)\n",
    "p2 = axes[0, 1].bar(DoesntChronicDiseases.index, DoesntChronicDiseases.values, bottom=HasChronicDiseases.values)\n",
    "axes[0, 1].set_title('Chronic Disease', fontsize=25)\n",
    "axes[0, 1].set_ylabel('Counts', fontsize=20)\n",
    "axes[0, 1].set_xlabel('Does Not have a Disease    Does Have a Disease', fontsize=20)\n",
    "axes[0, 1].tick_params(axis='both', labelsize=15)\n",
    "axes[0, 1].legend((p1[0], p2[0]), ('Has Trip Insurance', 'Does not have Trip Insurance'), fontsize = 15)\n"
   ]
  },
  {
   "cell_type": "markdown",
   "metadata": {},
   "source": [
    "### Analysis"
   ]
  },
  {
   "cell_type": "markdown",
   "metadata": {},
   "source": [
    "Just by looking at these graphs it appears our data set is full of individuals with varying incomes that work mostly in the private sector who dont usually buy tavel insurance. It does appear that frequent flyers do buy trip insurance more often than not. One concern that I currenlty have is the lack of correlation between variables. It does appear annual income and # of family members do play a role in if travel insurance is bought. This data set could also benefit from a wider age range. I did like how smoothly I was able to use the code from the titanic dataset to describe this data set. Some of these variables are not needed such as unnamed & ever travel abroad)  "
   ]
  },
  {
   "cell_type": "markdown",
   "metadata": {},
   "source": [
    "# Part 2"
   ]
  },
  {
   "cell_type": "markdown",
   "metadata": {},
   "source": [
    "### Goal"
   ]
  },
  {
   "cell_type": "markdown",
   "metadata": {},
   "source": [
    "you should drop any features that are not useful for your model building. You should explain and justify why the feature dropped is not useful. You should address any missing data issues. Build any new features that you need for your model, e.g., create dummy variables for categorical features if necessary. Explain your process at each step. You can use any methods/tools you think are most appropriate. Again, keep in mind that this may look very different from what is done in the Titanic tutorial case study. You should do what makes sense for your project. Be careful to avoid data snooping in these steps."
   ]
  },
  {
   "cell_type": "code",
   "execution_count": 15,
   "metadata": {},
   "outputs": [
    {
     "name": "stdout",
     "output_type": "stream",
     "text": [
      "Unnamed: 0 column has no missing values!\n",
      "Age column has no missing values!\n",
      "Employment Type column has no missing values!\n",
      "GraduateOrNot column has no missing values!\n",
      "AnnualIncome column has no missing values!\n",
      "FamilyMembers column has no missing values!\n",
      "ChronicDiseases column has no missing values!\n",
      "FrequentFlyer column has no missing values!\n",
      "EverTravelledAbroad column has no missing values!\n",
      "TravelInsurance column has no missing values!\n"
     ]
    }
   ],
   "source": [
    "# lets first check for any missing values\n",
    "for c in df.columns:\n",
    "    miss = df[c].isnull().sum()\n",
    "    if miss >0:\n",
    "        print(\"{} has {} missing values\".format(c,miss))\n",
    "    else:\n",
    "        print(\"{} column has no missing values!\".format(c))"
   ]
  },
  {
   "cell_type": "markdown",
   "metadata": {},
   "source": [
    "There are no missing values thankfully"
   ]
  },
  {
   "cell_type": "code",
   "execution_count": 16,
   "metadata": {},
   "outputs": [],
   "source": [
    "# rename a couple columns to make them easier to call\n",
    "df.rename(columns = {'GraduateOrNot':'Degree', 'EverTravelledAbroad':'Abroad'}, inplace=True)"
   ]
  },
  {
   "cell_type": "code",
   "execution_count": 17,
   "metadata": {},
   "outputs": [
    {
     "data": {
      "text/html": [
       "<div>\n",
       "<style scoped>\n",
       "    .dataframe tbody tr th:only-of-type {\n",
       "        vertical-align: middle;\n",
       "    }\n",
       "\n",
       "    .dataframe tbody tr th {\n",
       "        vertical-align: top;\n",
       "    }\n",
       "\n",
       "    .dataframe thead th {\n",
       "        text-align: right;\n",
       "    }\n",
       "</style>\n",
       "<table border=\"1\" class=\"dataframe\">\n",
       "  <thead>\n",
       "    <tr style=\"text-align: right;\">\n",
       "      <th></th>\n",
       "      <th>Unnamed: 0</th>\n",
       "      <th>Age</th>\n",
       "      <th>Employment Type</th>\n",
       "      <th>Degree</th>\n",
       "      <th>AnnualIncome</th>\n",
       "      <th>FamilyMembers</th>\n",
       "      <th>ChronicDiseases</th>\n",
       "      <th>FrequentFlyer</th>\n",
       "      <th>Abroad</th>\n",
       "      <th>TravelInsurance</th>\n",
       "    </tr>\n",
       "  </thead>\n",
       "  <tbody>\n",
       "    <tr>\n",
       "      <th>0</th>\n",
       "      <td>0</td>\n",
       "      <td>31</td>\n",
       "      <td>Government Sector</td>\n",
       "      <td>Yes</td>\n",
       "      <td>400000</td>\n",
       "      <td>6</td>\n",
       "      <td>1</td>\n",
       "      <td>No</td>\n",
       "      <td>No</td>\n",
       "      <td>0</td>\n",
       "    </tr>\n",
       "    <tr>\n",
       "      <th>1</th>\n",
       "      <td>1</td>\n",
       "      <td>31</td>\n",
       "      <td>Private Sector/Self Employed</td>\n",
       "      <td>Yes</td>\n",
       "      <td>1250000</td>\n",
       "      <td>7</td>\n",
       "      <td>0</td>\n",
       "      <td>No</td>\n",
       "      <td>No</td>\n",
       "      <td>0</td>\n",
       "    </tr>\n",
       "    <tr>\n",
       "      <th>2</th>\n",
       "      <td>2</td>\n",
       "      <td>34</td>\n",
       "      <td>Private Sector/Self Employed</td>\n",
       "      <td>Yes</td>\n",
       "      <td>500000</td>\n",
       "      <td>4</td>\n",
       "      <td>1</td>\n",
       "      <td>No</td>\n",
       "      <td>No</td>\n",
       "      <td>1</td>\n",
       "    </tr>\n",
       "    <tr>\n",
       "      <th>3</th>\n",
       "      <td>3</td>\n",
       "      <td>28</td>\n",
       "      <td>Private Sector/Self Employed</td>\n",
       "      <td>Yes</td>\n",
       "      <td>700000</td>\n",
       "      <td>3</td>\n",
       "      <td>1</td>\n",
       "      <td>No</td>\n",
       "      <td>No</td>\n",
       "      <td>0</td>\n",
       "    </tr>\n",
       "    <tr>\n",
       "      <th>4</th>\n",
       "      <td>4</td>\n",
       "      <td>28</td>\n",
       "      <td>Private Sector/Self Employed</td>\n",
       "      <td>Yes</td>\n",
       "      <td>700000</td>\n",
       "      <td>8</td>\n",
       "      <td>1</td>\n",
       "      <td>Yes</td>\n",
       "      <td>No</td>\n",
       "      <td>0</td>\n",
       "    </tr>\n",
       "  </tbody>\n",
       "</table>\n",
       "</div>"
      ],
      "text/plain": [
       "   Unnamed: 0  Age               Employment Type Degree  AnnualIncome  \\\n",
       "0           0   31             Government Sector    Yes        400000   \n",
       "1           1   31  Private Sector/Self Employed    Yes       1250000   \n",
       "2           2   34  Private Sector/Self Employed    Yes        500000   \n",
       "3           3   28  Private Sector/Self Employed    Yes        700000   \n",
       "4           4   28  Private Sector/Self Employed    Yes        700000   \n",
       "\n",
       "   FamilyMembers  ChronicDiseases FrequentFlyer Abroad  TravelInsurance  \n",
       "0              6                1            No     No                0  \n",
       "1              7                0            No     No                0  \n",
       "2              4                1            No     No                1  \n",
       "3              3                1            No     No                0  \n",
       "4              8                1           Yes     No                0  "
      ]
     },
     "execution_count": 17,
     "metadata": {},
     "output_type": "execute_result"
    }
   ],
   "source": [
    "df.head()"
   ]
  },
  {
   "cell_type": "markdown",
   "metadata": {},
   "source": [
    "I would like to add more data to the age and annual income columns but sadly there is very little correlation between the two columns making me hesitant to make up data"
   ]
  },
  {
   "cell_type": "code",
   "execution_count": 18,
   "metadata": {},
   "outputs": [
    {
     "data": {
      "text/html": [
       "<div>\n",
       "<style scoped>\n",
       "    .dataframe tbody tr th:only-of-type {\n",
       "        vertical-align: middle;\n",
       "    }\n",
       "\n",
       "    .dataframe tbody tr th {\n",
       "        vertical-align: top;\n",
       "    }\n",
       "\n",
       "    .dataframe thead th {\n",
       "        text-align: right;\n",
       "    }\n",
       "</style>\n",
       "<table border=\"1\" class=\"dataframe\">\n",
       "  <thead>\n",
       "    <tr style=\"text-align: right;\">\n",
       "      <th></th>\n",
       "      <th>Unnamed: 0</th>\n",
       "      <th>Age</th>\n",
       "      <th>Employment Type</th>\n",
       "      <th>Degree</th>\n",
       "      <th>AnnualIncome</th>\n",
       "      <th>FamilyMembers</th>\n",
       "      <th>ChronicDiseases</th>\n",
       "      <th>FrequentFlyer</th>\n",
       "      <th>Abroad</th>\n",
       "      <th>TravelInsurance</th>\n",
       "      <th>FrequentFlyer_cat</th>\n",
       "      <th>Degree_cat</th>\n",
       "      <th>Abroad_cat</th>\n",
       "      <th>Employment Type_cat</th>\n",
       "    </tr>\n",
       "  </thead>\n",
       "  <tbody>\n",
       "    <tr>\n",
       "      <th>0</th>\n",
       "      <td>0</td>\n",
       "      <td>31</td>\n",
       "      <td>Government Sector</td>\n",
       "      <td>Yes</td>\n",
       "      <td>400000</td>\n",
       "      <td>6</td>\n",
       "      <td>1</td>\n",
       "      <td>No</td>\n",
       "      <td>No</td>\n",
       "      <td>0</td>\n",
       "      <td>0</td>\n",
       "      <td>1</td>\n",
       "      <td>0</td>\n",
       "      <td>0</td>\n",
       "    </tr>\n",
       "    <tr>\n",
       "      <th>1</th>\n",
       "      <td>1</td>\n",
       "      <td>31</td>\n",
       "      <td>Private Sector/Self Employed</td>\n",
       "      <td>Yes</td>\n",
       "      <td>1250000</td>\n",
       "      <td>7</td>\n",
       "      <td>0</td>\n",
       "      <td>No</td>\n",
       "      <td>No</td>\n",
       "      <td>0</td>\n",
       "      <td>0</td>\n",
       "      <td>1</td>\n",
       "      <td>0</td>\n",
       "      <td>1</td>\n",
       "    </tr>\n",
       "    <tr>\n",
       "      <th>2</th>\n",
       "      <td>2</td>\n",
       "      <td>34</td>\n",
       "      <td>Private Sector/Self Employed</td>\n",
       "      <td>Yes</td>\n",
       "      <td>500000</td>\n",
       "      <td>4</td>\n",
       "      <td>1</td>\n",
       "      <td>No</td>\n",
       "      <td>No</td>\n",
       "      <td>1</td>\n",
       "      <td>0</td>\n",
       "      <td>1</td>\n",
       "      <td>0</td>\n",
       "      <td>1</td>\n",
       "    </tr>\n",
       "    <tr>\n",
       "      <th>3</th>\n",
       "      <td>3</td>\n",
       "      <td>28</td>\n",
       "      <td>Private Sector/Self Employed</td>\n",
       "      <td>Yes</td>\n",
       "      <td>700000</td>\n",
       "      <td>3</td>\n",
       "      <td>1</td>\n",
       "      <td>No</td>\n",
       "      <td>No</td>\n",
       "      <td>0</td>\n",
       "      <td>0</td>\n",
       "      <td>1</td>\n",
       "      <td>0</td>\n",
       "      <td>1</td>\n",
       "    </tr>\n",
       "    <tr>\n",
       "      <th>4</th>\n",
       "      <td>4</td>\n",
       "      <td>28</td>\n",
       "      <td>Private Sector/Self Employed</td>\n",
       "      <td>Yes</td>\n",
       "      <td>700000</td>\n",
       "      <td>8</td>\n",
       "      <td>1</td>\n",
       "      <td>Yes</td>\n",
       "      <td>No</td>\n",
       "      <td>0</td>\n",
       "      <td>1</td>\n",
       "      <td>1</td>\n",
       "      <td>0</td>\n",
       "      <td>1</td>\n",
       "    </tr>\n",
       "  </tbody>\n",
       "</table>\n",
       "</div>"
      ],
      "text/plain": [
       "   Unnamed: 0  Age               Employment Type Degree  AnnualIncome  \\\n",
       "0           0   31             Government Sector    Yes        400000   \n",
       "1           1   31  Private Sector/Self Employed    Yes       1250000   \n",
       "2           2   34  Private Sector/Self Employed    Yes        500000   \n",
       "3           3   28  Private Sector/Self Employed    Yes        700000   \n",
       "4           4   28  Private Sector/Self Employed    Yes        700000   \n",
       "\n",
       "   FamilyMembers  ChronicDiseases FrequentFlyer Abroad  TravelInsurance  \\\n",
       "0              6                1            No     No                0   \n",
       "1              7                0            No     No                0   \n",
       "2              4                1            No     No                1   \n",
       "3              3                1            No     No                0   \n",
       "4              8                1           Yes     No                0   \n",
       "\n",
       "   FrequentFlyer_cat  Degree_cat  Abroad_cat  Employment Type_cat  \n",
       "0                  0           1           0                    0  \n",
       "1                  0           1           0                    1  \n",
       "2                  0           1           0                    1  \n",
       "3                  0           1           0                    1  \n",
       "4                  1           1           0                    1  "
      ]
     },
     "execution_count": 18,
     "metadata": {},
     "output_type": "execute_result"
    }
   ],
   "source": [
    "# replace categorical data with 0 meaning no and 1 meaning yes\n",
    "df[\"FrequentFlyer\"] = df[\"FrequentFlyer\"].astype('category')\n",
    "df[\"FrequentFlyer_cat\"] = df[\"FrequentFlyer\"].cat.codes\n",
    "df[\"Degree\"] = df[\"Degree\"].astype('category')\n",
    "df[\"Degree_cat\"] = df[\"Degree\"].cat.codes\n",
    "df[\"Abroad\"] = df[\"Abroad\"].astype('category')\n",
    "df[\"Abroad_cat\"] = df[\"Abroad\"].cat.codes\n",
    "df[\"Employment Type\"] = df[\"Employment Type\"].astype('category')\n",
    "df[\"Employment Type_cat\"] = df[\"Employment Type\"].cat.codes\n",
    "df.head()\n",
    "\n",
    "          \n"
   ]
  },
  {
   "cell_type": "markdown",
   "metadata": {},
   "source": [
    "Now I will re run my Correlation Chart with this new data to see if there is any new insights"
   ]
  },
  {
   "cell_type": "code",
   "execution_count": 19,
   "metadata": {},
   "outputs": [
    {
     "data": {
      "text/plain": [
       "<AxesSubplot:>"
      ]
     },
     "execution_count": 19,
     "metadata": {},
     "output_type": "execute_result"
    },
    {
     "data": {
      "image/png": "[encoded data removed]",
      "text/plain": [
       "<Figure size 1440x720 with 2 Axes>"
      ]
     },
     "metadata": {
      "needs_background": "light"
     },
     "output_type": "display_data"
    }
   ],
   "source": [
    "#Making a corelation chart\n",
    "corr = df.corr()\n",
    "seaborn.heatmap(corr, \n",
    "            xticklabels = corr.columns.values,\n",
    "            yticklabels = corr.columns.values)"
   ]
  },
  {
   "cell_type": "code",
   "execution_count": 20,
   "metadata": {},
   "outputs": [
    {
     "data": {
      "text/html": [
       "<div>\n",
       "<style scoped>\n",
       "    .dataframe tbody tr th:only-of-type {\n",
       "        vertical-align: middle;\n",
       "    }\n",
       "\n",
       "    .dataframe tbody tr th {\n",
       "        vertical-align: top;\n",
       "    }\n",
       "\n",
       "    .dataframe thead th {\n",
       "        text-align: right;\n",
       "    }\n",
       "</style>\n",
       "<table border=\"1\" class=\"dataframe\">\n",
       "  <thead>\n",
       "    <tr style=\"text-align: right;\">\n",
       "      <th></th>\n",
       "      <th>Unnamed: 0</th>\n",
       "      <th>Age</th>\n",
       "      <th>AnnualIncome</th>\n",
       "      <th>FamilyMembers</th>\n",
       "      <th>ChronicDiseases</th>\n",
       "      <th>TravelInsurance</th>\n",
       "      <th>FrequentFlyer_cat</th>\n",
       "      <th>Degree_cat</th>\n",
       "      <th>Abroad_cat</th>\n",
       "      <th>Employment Type_cat</th>\n",
       "    </tr>\n",
       "  </thead>\n",
       "  <tbody>\n",
       "    <tr>\n",
       "      <th>Unnamed: 0</th>\n",
       "      <td>1.000000</td>\n",
       "      <td>-0.004917</td>\n",
       "      <td>-0.025031</td>\n",
       "      <td>-0.041506</td>\n",
       "      <td>-0.006858</td>\n",
       "      <td>0.006196</td>\n",
       "      <td>-0.004596</td>\n",
       "      <td>-0.008602</td>\n",
       "      <td>-0.002160</td>\n",
       "      <td>-0.015769</td>\n",
       "    </tr>\n",
       "    <tr>\n",
       "      <th>Age</th>\n",
       "      <td>-0.004917</td>\n",
       "      <td>1.000000</td>\n",
       "      <td>-0.020101</td>\n",
       "      <td>0.027409</td>\n",
       "      <td>0.007359</td>\n",
       "      <td>0.061060</td>\n",
       "      <td>-0.033159</td>\n",
       "      <td>0.027125</td>\n",
       "      <td>-0.012779</td>\n",
       "      <td>-0.115134</td>\n",
       "    </tr>\n",
       "    <tr>\n",
       "      <th>AnnualIncome</th>\n",
       "      <td>-0.025031</td>\n",
       "      <td>-0.020101</td>\n",
       "      <td>1.000000</td>\n",
       "      <td>-0.015367</td>\n",
       "      <td>-0.001149</td>\n",
       "      <td>0.396763</td>\n",
       "      <td>0.353087</td>\n",
       "      <td>0.108066</td>\n",
       "      <td>0.486043</td>\n",
       "      <td>0.349157</td>\n",
       "    </tr>\n",
       "    <tr>\n",
       "      <th>FamilyMembers</th>\n",
       "      <td>-0.041506</td>\n",
       "      <td>0.027409</td>\n",
       "      <td>-0.015367</td>\n",
       "      <td>1.000000</td>\n",
       "      <td>0.028209</td>\n",
       "      <td>0.079909</td>\n",
       "      <td>-0.023775</td>\n",
       "      <td>0.021201</td>\n",
       "      <td>-0.020755</td>\n",
       "      <td>-0.003354</td>\n",
       "    </tr>\n",
       "    <tr>\n",
       "      <th>ChronicDiseases</th>\n",
       "      <td>-0.006858</td>\n",
       "      <td>0.007359</td>\n",
       "      <td>-0.001149</td>\n",
       "      <td>0.028209</td>\n",
       "      <td>1.000000</td>\n",
       "      <td>0.018190</td>\n",
       "      <td>-0.043720</td>\n",
       "      <td>0.018811</td>\n",
       "      <td>0.021238</td>\n",
       "      <td>-0.011553</td>\n",
       "    </tr>\n",
       "    <tr>\n",
       "      <th>TravelInsurance</th>\n",
       "      <td>0.006196</td>\n",
       "      <td>0.061060</td>\n",
       "      <td>0.396763</td>\n",
       "      <td>0.079909</td>\n",
       "      <td>0.018190</td>\n",
       "      <td>1.000000</td>\n",
       "      <td>0.232103</td>\n",
       "      <td>0.018934</td>\n",
       "      <td>0.433183</td>\n",
       "      <td>0.147847</td>\n",
       "    </tr>\n",
       "    <tr>\n",
       "      <th>FrequentFlyer_cat</th>\n",
       "      <td>-0.004596</td>\n",
       "      <td>-0.033159</td>\n",
       "      <td>0.353087</td>\n",
       "      <td>-0.023775</td>\n",
       "      <td>-0.043720</td>\n",
       "      <td>0.232103</td>\n",
       "      <td>1.000000</td>\n",
       "      <td>-0.028120</td>\n",
       "      <td>0.277334</td>\n",
       "      <td>0.143790</td>\n",
       "    </tr>\n",
       "    <tr>\n",
       "      <th>Degree_cat</th>\n",
       "      <td>-0.008602</td>\n",
       "      <td>0.027125</td>\n",
       "      <td>0.108066</td>\n",
       "      <td>0.021201</td>\n",
       "      <td>0.018811</td>\n",
       "      <td>0.018934</td>\n",
       "      <td>-0.028120</td>\n",
       "      <td>1.000000</td>\n",
       "      <td>0.062683</td>\n",
       "      <td>-0.127133</td>\n",
       "    </tr>\n",
       "    <tr>\n",
       "      <th>Abroad_cat</th>\n",
       "      <td>-0.002160</td>\n",
       "      <td>-0.012779</td>\n",
       "      <td>0.486043</td>\n",
       "      <td>-0.020755</td>\n",
       "      <td>0.021238</td>\n",
       "      <td>0.433183</td>\n",
       "      <td>0.277334</td>\n",
       "      <td>0.062683</td>\n",
       "      <td>1.000000</td>\n",
       "      <td>0.181098</td>\n",
       "    </tr>\n",
       "    <tr>\n",
       "      <th>Employment Type_cat</th>\n",
       "      <td>-0.015769</td>\n",
       "      <td>-0.115134</td>\n",
       "      <td>0.349157</td>\n",
       "      <td>-0.003354</td>\n",
       "      <td>-0.011553</td>\n",
       "      <td>0.147847</td>\n",
       "      <td>0.143790</td>\n",
       "      <td>-0.127133</td>\n",
       "      <td>0.181098</td>\n",
       "      <td>1.000000</td>\n",
       "    </tr>\n",
       "  </tbody>\n",
       "</table>\n",
       "</div>"
      ],
      "text/plain": [
       "                     Unnamed: 0       Age  AnnualIncome  FamilyMembers  \\\n",
       "Unnamed: 0             1.000000 -0.004917     -0.025031      -0.041506   \n",
       "Age                   -0.004917  1.000000     -0.020101       0.027409   \n",
       "AnnualIncome          -0.025031 -0.020101      1.000000      -0.015367   \n",
       "FamilyMembers         -0.041506  0.027409     -0.015367       1.000000   \n",
       "ChronicDiseases       -0.006858  0.007359     -0.001149       0.028209   \n",
       "TravelInsurance        0.006196  0.061060      0.396763       0.079909   \n",
       "FrequentFlyer_cat     -0.004596 -0.033159      0.353087      -0.023775   \n",
       "Degree_cat            -0.008602  0.027125      0.108066       0.021201   \n",
       "Abroad_cat            -0.002160 -0.012779      0.486043      -0.020755   \n",
       "Employment Type_cat   -0.015769 -0.115134      0.349157      -0.003354   \n",
       "\n",
       "                     ChronicDiseases  TravelInsurance  FrequentFlyer_cat  \\\n",
       "Unnamed: 0                 -0.006858         0.006196          -0.004596   \n",
       "Age                         0.007359         0.061060          -0.033159   \n",
       "AnnualIncome               -0.001149         0.396763           0.353087   \n",
       "FamilyMembers               0.028209         0.079909          -0.023775   \n",
       "ChronicDiseases             1.000000         0.018190          -0.043720   \n",
       "TravelInsurance             0.018190         1.000000           0.232103   \n",
       "FrequentFlyer_cat          -0.043720         0.232103           1.000000   \n",
       "Degree_cat                  0.018811         0.018934          -0.028120   \n",
       "Abroad_cat                  0.021238         0.433183           0.277334   \n",
       "Employment Type_cat        -0.011553         0.147847           0.143790   \n",
       "\n",
       "                     Degree_cat  Abroad_cat  Employment Type_cat  \n",
       "Unnamed: 0            -0.008602   -0.002160            -0.015769  \n",
       "Age                    0.027125   -0.012779            -0.115134  \n",
       "AnnualIncome           0.108066    0.486043             0.349157  \n",
       "FamilyMembers          0.021201   -0.020755            -0.003354  \n",
       "ChronicDiseases        0.018811    0.021238            -0.011553  \n",
       "TravelInsurance        0.018934    0.433183             0.147847  \n",
       "FrequentFlyer_cat     -0.028120    0.277334             0.143790  \n",
       "Degree_cat             1.000000    0.062683            -0.127133  \n",
       "Abroad_cat             0.062683    1.000000             0.181098  \n",
       "Employment Type_cat   -0.127133    0.181098             1.000000  "
      ]
     },
     "execution_count": 20,
     "metadata": {},
     "output_type": "execute_result"
    }
   ],
   "source": [
    "#finding correlation \n",
    "corr = df.corr()\n",
    "corr"
   ]
  },
  {
   "cell_type": "markdown",
   "metadata": {},
   "source": [
    "This is very promising it shows that there is correlation between travelling abroad and the purchase of travel insurance as well."
   ]
  },
  {
   "cell_type": "code",
   "execution_count": 21,
   "metadata": {},
   "outputs": [],
   "source": [
    "# I am now going to remove some un wanted columns such as 'degree' (very low correlation) and my cat data\n",
    "df1 = df [['Age','AnnualIncome','FamilyMembers','ChronicDiseases','TravelInsurance','FrequentFlyer_cat','Abroad_cat','Employment Type_cat']]"
   ]
  },
  {
   "cell_type": "code",
   "execution_count": 22,
   "metadata": {},
   "outputs": [
    {
     "data": {
      "text/html": [
       "<div>\n",
       "<style scoped>\n",
       "    .dataframe tbody tr th:only-of-type {\n",
       "        vertical-align: middle;\n",
       "    }\n",
       "\n",
       "    .dataframe tbody tr th {\n",
       "        vertical-align: top;\n",
       "    }\n",
       "\n",
       "    .dataframe thead th {\n",
       "        text-align: right;\n",
       "    }\n",
       "</style>\n",
       "<table border=\"1\" class=\"dataframe\">\n",
       "  <thead>\n",
       "    <tr style=\"text-align: right;\">\n",
       "      <th></th>\n",
       "      <th>Age</th>\n",
       "      <th>AnnualIncome</th>\n",
       "      <th>FamilyMembers</th>\n",
       "      <th>ChronicDiseases</th>\n",
       "      <th>TravelInsurance</th>\n",
       "      <th>FrequentFlyer_cat</th>\n",
       "      <th>Abroad_cat</th>\n",
       "      <th>Employment Type_cat</th>\n",
       "    </tr>\n",
       "  </thead>\n",
       "  <tbody>\n",
       "    <tr>\n",
       "      <th>0</th>\n",
       "      <td>31</td>\n",
       "      <td>400000</td>\n",
       "      <td>6</td>\n",
       "      <td>1</td>\n",
       "      <td>0</td>\n",
       "      <td>0</td>\n",
       "      <td>0</td>\n",
       "      <td>0</td>\n",
       "    </tr>\n",
       "    <tr>\n",
       "      <th>1</th>\n",
       "      <td>31</td>\n",
       "      <td>1250000</td>\n",
       "      <td>7</td>\n",
       "      <td>0</td>\n",
       "      <td>0</td>\n",
       "      <td>0</td>\n",
       "      <td>0</td>\n",
       "      <td>1</td>\n",
       "    </tr>\n",
       "    <tr>\n",
       "      <th>2</th>\n",
       "      <td>34</td>\n",
       "      <td>500000</td>\n",
       "      <td>4</td>\n",
       "      <td>1</td>\n",
       "      <td>1</td>\n",
       "      <td>0</td>\n",
       "      <td>0</td>\n",
       "      <td>1</td>\n",
       "    </tr>\n",
       "    <tr>\n",
       "      <th>3</th>\n",
       "      <td>28</td>\n",
       "      <td>700000</td>\n",
       "      <td>3</td>\n",
       "      <td>1</td>\n",
       "      <td>0</td>\n",
       "      <td>0</td>\n",
       "      <td>0</td>\n",
       "      <td>1</td>\n",
       "    </tr>\n",
       "    <tr>\n",
       "      <th>4</th>\n",
       "      <td>28</td>\n",
       "      <td>700000</td>\n",
       "      <td>8</td>\n",
       "      <td>1</td>\n",
       "      <td>0</td>\n",
       "      <td>1</td>\n",
       "      <td>0</td>\n",
       "      <td>1</td>\n",
       "    </tr>\n",
       "    <tr>\n",
       "      <th>...</th>\n",
       "      <td>...</td>\n",
       "      <td>...</td>\n",
       "      <td>...</td>\n",
       "      <td>...</td>\n",
       "      <td>...</td>\n",
       "      <td>...</td>\n",
       "      <td>...</td>\n",
       "      <td>...</td>\n",
       "    </tr>\n",
       "    <tr>\n",
       "      <th>1982</th>\n",
       "      <td>33</td>\n",
       "      <td>1500000</td>\n",
       "      <td>4</td>\n",
       "      <td>0</td>\n",
       "      <td>1</td>\n",
       "      <td>1</td>\n",
       "      <td>1</td>\n",
       "      <td>1</td>\n",
       "    </tr>\n",
       "    <tr>\n",
       "      <th>1983</th>\n",
       "      <td>28</td>\n",
       "      <td>1750000</td>\n",
       "      <td>5</td>\n",
       "      <td>1</td>\n",
       "      <td>0</td>\n",
       "      <td>0</td>\n",
       "      <td>1</td>\n",
       "      <td>1</td>\n",
       "    </tr>\n",
       "    <tr>\n",
       "      <th>1984</th>\n",
       "      <td>28</td>\n",
       "      <td>1150000</td>\n",
       "      <td>6</td>\n",
       "      <td>1</td>\n",
       "      <td>0</td>\n",
       "      <td>0</td>\n",
       "      <td>0</td>\n",
       "      <td>1</td>\n",
       "    </tr>\n",
       "    <tr>\n",
       "      <th>1985</th>\n",
       "      <td>34</td>\n",
       "      <td>1000000</td>\n",
       "      <td>6</td>\n",
       "      <td>0</td>\n",
       "      <td>1</td>\n",
       "      <td>1</td>\n",
       "      <td>1</td>\n",
       "      <td>1</td>\n",
       "    </tr>\n",
       "    <tr>\n",
       "      <th>1986</th>\n",
       "      <td>34</td>\n",
       "      <td>500000</td>\n",
       "      <td>4</td>\n",
       "      <td>0</td>\n",
       "      <td>0</td>\n",
       "      <td>0</td>\n",
       "      <td>0</td>\n",
       "      <td>1</td>\n",
       "    </tr>\n",
       "  </tbody>\n",
       "</table>\n",
       "<p>1987 rows × 8 columns</p>\n",
       "</div>"
      ],
      "text/plain": [
       "      Age  AnnualIncome  FamilyMembers  ChronicDiseases  TravelInsurance  \\\n",
       "0      31        400000              6                1                0   \n",
       "1      31       1250000              7                0                0   \n",
       "2      34        500000              4                1                1   \n",
       "3      28        700000              3                1                0   \n",
       "4      28        700000              8                1                0   \n",
       "...   ...           ...            ...              ...              ...   \n",
       "1982   33       1500000              4                0                1   \n",
       "1983   28       1750000              5                1                0   \n",
       "1984   28       1150000              6                1                0   \n",
       "1985   34       1000000              6                0                1   \n",
       "1986   34        500000              4                0                0   \n",
       "\n",
       "      FrequentFlyer_cat  Abroad_cat  Employment Type_cat  \n",
       "0                     0           0                    0  \n",
       "1                     0           0                    1  \n",
       "2                     0           0                    1  \n",
       "3                     0           0                    1  \n",
       "4                     1           0                    1  \n",
       "...                 ...         ...                  ...  \n",
       "1982                  1           1                    1  \n",
       "1983                  0           1                    1  \n",
       "1984                  0           0                    1  \n",
       "1985                  1           1                    1  \n",
       "1986                  0           0                    1  \n",
       "\n",
       "[1987 rows x 8 columns]"
      ]
     },
     "execution_count": 22,
     "metadata": {},
     "output_type": "execute_result"
    }
   ],
   "source": [
    "df1"
   ]
  },
  {
   "cell_type": "markdown",
   "metadata": {},
   "source": [
    "# Milestone 3"
   ]
  },
  {
   "cell_type": "code",
   "execution_count": 23,
   "metadata": {},
   "outputs": [
    {
     "name": "stdout",
     "output_type": "stream",
     "text": [
      "No. of samples in training set:  1390\n",
      "No. of samples in validation set: 597\n",
      "\n",
      "\n",
      "No. of people who bought travel insurance in train set:\n",
      "0    894\n",
      "1    496\n",
      "Name: TravelInsurance, dtype: int64\n",
      "\n",
      "\n",
      "No. of people who bought travel insurance in validation set:\n",
      "0    383\n",
      "1    214\n",
      "Name: TravelInsurance, dtype: int64\n"
     ]
    }
   ],
   "source": [
    "#Step 14 - create a whole features dataset that can be used for train and validation data splitting\n",
    "# here we will combine the numerical features and the dummie features together\n",
    "features_model = ['ChronicDiseases', 'FrequentFlyer_cat', 'Abroad_cat', 'Employment Type_cat', 'FamilyMembers','AnnualIncome']\n",
    "data_model_X = pd.concat([df1[features_model], df1], axis=1)\n",
    "\n",
    "# create a whole target dataset that can be used for train and validation data splitting\n",
    "data_model_y = df1['TravelInsurance']\n",
    "# separate data into training and validation and check the details of the datasets\n",
    "# import packages\n",
    "from sklearn.model_selection import train_test_split\n",
    "\n",
    "# split the data\n",
    "X_train, X_val, y_train, y_val = train_test_split(data_model_X, data_model_y, test_size =0.3, random_state=11)\n",
    "\n",
    "# number of samples in each set\n",
    "print(\"No. of samples in training set: \", X_train.shape[0])\n",
    "print(\"No. of samples in validation set:\", X_val.shape[0])\n",
    "\n",
    "# Survived and not-survived\n",
    "print('\\n')\n",
    "print('No. of people who bought travel insurance in train set:')\n",
    "print(y_train.value_counts())\n",
    "\n",
    "print('\\n')\n",
    "print('No. of people who bought travel insurance in validation set:')\n",
    "print(y_val.value_counts())\n"
   ]
  },
  {
   "cell_type": "code",
   "execution_count": 24,
   "metadata": {},
   "outputs": [
    {
     "data": {
      "image/png": "[encoded data removed]",
      "text/plain": [
       "<Figure size 576x396 with 1 Axes>"
      ]
     },
     "metadata": {},
     "output_type": "display_data"
    },
    {
     "data": {
      "text/plain": [
       "<AxesSubplot:title={'center':'LogisticRegression Confusion Matrix'}, xlabel='Predicted Class', ylabel='True Class'>"
      ]
     },
     "execution_count": 24,
     "metadata": {},
     "output_type": "execute_result"
    }
   ],
   "source": [
    "# Step 15 - Eval Metrics\n",
    "from sklearn.linear_model import LogisticRegression\n",
    "\n",
    "from yellowbrick.classifier import ConfusionMatrix\n",
    "from yellowbrick.classifier import ClassificationReport\n",
    "from yellowbrick.classifier import ROCAUC\n",
    "\n",
    "# Instantiate the classification model \n",
    "model = LogisticRegression()\n",
    "\n",
    "#The ConfusionMatrix visualizer taxes a model\n",
    "classes = ['Didnt_buy_Insurance','Bought_insurance']\n",
    "cm = ConfusionMatrix(model, classes=classes, percent=False)\n",
    "\n",
    "#Fit fits the passed model. This is unnecessary if you pass the visualizer a pre-fitted model\n",
    "cm.fit(X_train, y_train)\n",
    "\n",
    "#To create the ConfusionMatrix, we need some test data. Score runs predict() on the data\n",
    "#and then creates the confusion_matrix from scikit learn.\n",
    "cm.score(X_val, y_val)\n",
    "\n",
    "# change fontsize of the labels in the figure\n",
    "for label in cm.ax.texts:\n",
    "    label.set_size(20)\n",
    "\n",
    "#How did we do?\n",
    "cm.poof()\n"
   ]
  },
  {
   "cell_type": "code",
   "execution_count": 25,
   "metadata": {},
   "outputs": [
    {
     "name": "stderr",
     "output_type": "stream",
     "text": [
      "C:\\Users\\Daffy\\anaconda3\\lib\\site-packages\\sklearn\\metrics\\_classification.py:1221: UndefinedMetricWarning: Precision and F-score are ill-defined and being set to 0.0 in labels with no predicted samples. Use `zero_division` parameter to control this behavior.\n",
      "  _warn_prf(average, modifier, msg_start, len(result))\n"
     ]
    },
    {
     "data": {
      "image/png": "[encoded data removed]",
      "text/plain": [
       "<Figure size 1080x504 with 2 Axes>"
      ]
     },
     "metadata": {},
     "output_type": "display_data"
    }
   ],
   "source": [
    "# Precision, Recall, and F1 Score\n",
    "# set the size of the figure and the font size \n",
    "#%matplotlib inline\n",
    "plt.rcParams['figure.figsize'] = (15, 7)\n",
    "plt.rcParams['font.size'] = 20\n",
    "\n",
    "# Instantiate the visualizer\n",
    "visualizer = ClassificationReport(model, classes=classes)\n",
    "\n",
    "visualizer.fit(X_train, y_train)  # Fit the training data to the visualizer\n",
    "visualizer.score(X_val, y_val)  # Evaluate the model on the test data\n",
    "g = visualizer.poof()"
   ]
  },
  {
   "cell_type": "code",
   "execution_count": 26,
   "metadata": {},
   "outputs": [
    {
     "data": {
      "image/png": "[encoded data removed]",
      "text/plain": [
       "<Figure size 1080x504 with 1 Axes>"
      ]
     },
     "metadata": {},
     "output_type": "display_data"
    }
   ],
   "source": [
    "# ROC and AUC\n",
    "#Instantiate the visualizer\n",
    "visualizer = ROCAUC(model)\n",
    "\n",
    "visualizer.fit(X_train, y_train)  # Fit the training data to the visualizer\n",
    "visualizer.score(X_val, y_val)  # Evaluate the model on the test data\n",
    "g = visualizer.poof()"
   ]
  },
  {
   "cell_type": "markdown",
   "metadata": {},
   "source": [
    "My first attempt at a model did not go well. I tried to mimick the titanic lesson because both projects are binary classification so I assumed it would transfer over well. The accuracy was alright for predicting if people would not buy insurance but I was unable to get it to work the other way around. "
   ]
  },
  {
   "cell_type": "markdown",
   "metadata": {},
   "source": [
    "# Part 4"
   ]
  },
  {
   "cell_type": "code",
   "execution_count": 27,
   "metadata": {},
   "outputs": [],
   "source": [
    "#Trying a Decision Tree Classifier\n",
    "import pandas as pd\n",
    "from sklearn.tree import DecisionTreeClassifier\n",
    "from sklearn.model_selection import train_test_split\n",
    "from sklearn import metrics\n",
    "from sklearn.tree import export_graphviz \n",
    "from IPython.display import Image  \n",
    "import pydotplus\n",
    "from six import StringIO"
   ]
  },
  {
   "cell_type": "code",
   "execution_count": 47,
   "metadata": {},
   "outputs": [],
   "source": [
    "#split the data\n",
    "feature_cols = ['Age','AnnualIncome','FamilyMembers','ChronicDiseases','FrequentFlyer_cat','Abroad_cat','Employment Type_cat']\n",
    "\n",
    "X = df1[feature_cols]\n",
    "y = df1.TravelInsurance"
   ]
  },
  {
   "cell_type": "code",
   "execution_count": 29,
   "metadata": {},
   "outputs": [],
   "source": [
    "# Split dataset into training set and test set\n",
    "X_train, X_test, y_train, y_test = train_test_split(X, y, test_size=0.3, random_state=1) # 70% training and 30% test"
   ]
  },
  {
   "cell_type": "code",
   "execution_count": 30,
   "metadata": {},
   "outputs": [],
   "source": [
    "# Create Decision Tree classifer object\n",
    "clf = DecisionTreeClassifier()\n",
    "\n",
    "# Train\n",
    "clf = clf.fit(X_train,y_train)\n",
    "\n",
    "#Predict\n",
    "y_pred = clf.predict(X_test)"
   ]
  },
  {
   "cell_type": "code",
   "execution_count": 31,
   "metadata": {},
   "outputs": [
    {
     "name": "stdout",
     "output_type": "stream",
     "text": [
      "Accuracy: 0.7554438860971524\n"
     ]
    }
   ],
   "source": [
    "# Model Accuracy\n",
    "print(\"Accuracy:\",metrics.accuracy_score(y_test, y_pred))"
   ]
  },
  {
   "cell_type": "markdown",
   "metadata": {},
   "source": [
    "An accuracy of 75 percent is a small win for me! I am now going to try to tune this a little more"
   ]
  },
  {
   "cell_type": "code",
   "execution_count": 32,
   "metadata": {},
   "outputs": [
    {
     "name": "stdout",
     "output_type": "stream",
     "text": [
      "Accuracy: 0.8391959798994975\n"
     ]
    }
   ],
   "source": [
    "#maximum depth of the tree was controlled here!\n",
    "\n",
    "# Create object\n",
    "clf = DecisionTreeClassifier(criterion=\"entropy\", max_depth=3)\n",
    "\n",
    "# Train Decision Tree\n",
    "clf = clf.fit(X_train,y_train)\n",
    "\n",
    "#Predict the response\n",
    "y_pred = clf.predict(X_test)\n",
    "\n",
    "# Model Accuracy,\n",
    "print(\"Accuracy:\",metrics.accuracy_score(y_test, y_pred))"
   ]
  },
  {
   "cell_type": "code",
   "execution_count": 33,
   "metadata": {},
   "outputs": [
    {
     "name": "stdout",
     "output_type": "stream",
     "text": [
      "f1 scores: <module 'sklearn.metrics' from 'C:\\\\Users\\\\Daffy\\\\anaconda3\\\\lib\\\\site-packages\\\\sklearn\\\\metrics\\\\__init__.py'>\n",
      "Accuracy:  0.8391959798994975\n",
      "Confusion Matrix:\n",
      " [[377   6]\n",
      " [ 90 124]]\n",
      "Classification Report:\n",
      "               precision    recall  f1-score   support\n",
      "\n",
      "           0       0.81      0.98      0.89       383\n",
      "           1       0.95      0.58      0.72       214\n",
      "\n",
      "    accuracy                           0.84       597\n",
      "   macro avg       0.88      0.78      0.80       597\n",
      "weighted avg       0.86      0.84      0.83       597\n",
      "\n",
      "Accuracy:  0.8391959798994975\n"
     ]
    }
   ],
   "source": [
    "#get the f1, percision and accurcacy scores \n",
    "from sklearn.metrics import accuracy_score, confusion_matrix, precision_recall_fscore_support\n",
    "from sklearn.metrics import classification_report\n",
    "print(f\"f1 scores: {metrics}\")\n",
    "predicted = clf.predict(X_test)\n",
    "print(\"Accuracy: \", np.mean(predicted == y_test))\n",
    "\n",
    "print(\"Confusion Matrix:\\n\", confusion_matrix(y_test, predicted))\n",
    "print(\"Classification Report:\\n\", classification_report(y_test,predicted))\n",
    "print(\"Accuracy: \", accuracy_score(y_test,predicted))"
   ]
  },
  {
   "cell_type": "markdown",
   "metadata": {},
   "source": [
    "We were able to imporve our accuracy by almost 10 percent! "
   ]
  },
  {
   "cell_type": "markdown",
   "metadata": {},
   "source": [
    "I am very happy with the results for my decision tree. The main reason why i picked this model is because it I am working with a binary classification. Travelers either buy insurance or they do not. One thing that I could imporve on is the visualization of the tree. I was not able to get it work."
   ]
  },
  {
   "cell_type": "code",
   "execution_count": 38,
   "metadata": {},
   "outputs": [],
   "source": [
    "#attempting a random forest\n",
    "import numpy as np\n",
    "import sklearn as sk\n",
    "import sklearn.datasets as skd\n",
    "import sklearn.ensemble as ske\n",
    "import matplotlib.pyplot as plt\n",
    "%matplotlib inline"
   ]
  },
  {
   "cell_type": "code",
   "execution_count": 39,
   "metadata": {},
   "outputs": [],
   "source": [
    "#create model\n",
    "reg = ske.RandomForestRegressor()"
   ]
  },
  {
   "cell_type": "code",
   "execution_count": 40,
   "metadata": {},
   "outputs": [
    {
     "data": {
      "text/plain": [
       "RandomForestRegressor()"
      ]
     },
     "execution_count": 40,
     "metadata": {},
     "output_type": "execute_result"
    }
   ],
   "source": [
    "#fit model\n",
    "reg.fit(X, y)"
   ]
  },
  {
   "cell_type": "code",
   "execution_count": 41,
   "metadata": {},
   "outputs": [],
   "source": [
    "fet_ind = np.argsort(reg.feature_importances_)[::-1]\n",
    "fet_imp = reg.feature_importances_[fet_ind]"
   ]
  },
  {
   "cell_type": "code",
   "execution_count": null,
   "metadata": {},
   "outputs": [],
   "source": [
    "from sklearn import tree\n",
    "tree.export_graphviz(reg.estimators_[0],\n",
    "                     'tree.dot')"
   ]
  }
 ],
 "metadata": {
  "kernelspec": {
   "display_name": "Python 3",
   "language": "python",
   "name": "python3"
  },
  "language_info": {
   "codemirror_mode": {
    "name": "ipython",
    "version": 3
   },
   "file_extension": ".py",
   "mimetype": "text/x-python",
   "name": "python",
   "nbconvert_exporter": "python",
   "pygments_lexer": "ipython3",
   "version": "3.8.5"
  }
 },
 "nbformat": 4,
 "nbformat_minor": 4
}
